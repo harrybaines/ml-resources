{
 "cells": [
  {
   "cell_type": "markdown",
   "metadata": {},
   "source": [
    "## MNIST Digits Data Augmentation"
   ]
  },
  {
   "cell_type": "markdown",
   "metadata": {},
   "source": [
    "This notebook outlines a simple procedure for augmenting/expanding the MNIST handwritten digits dataset. Each image is transformed by moving the image 1 pixel in 4 directions (up, right, down and left). The result is 4 transformed copies of the original image plus the original image totalling 5 copies. This transformation is applied to all images in the dataset, resulting in a new dataset of size 70,000 images * 5 copies/image = 350,000 images."
   ]
  },
  {
   "cell_type": "code",
   "execution_count": 2,
   "metadata": {},
   "outputs": [],
   "source": [
    "# Import dependencies\n",
    "import numpy as np\n",
    "import scipy.ndimage.interpolation as interp\n",
    "import matplotlib.pyplot as plt\n",
    "from sklearn.datasets import fetch_openml"
   ]
  },
  {
   "cell_type": "code",
   "execution_count": 3,
   "metadata": {},
   "outputs": [],
   "source": [
    "# Fetch the digits dataset\n",
    "mnist = fetch_openml('mnist_784', version=1)\n",
    "X, y = mnist['data'], mnist['target']"
   ]
  },
  {
   "cell_type": "code",
   "execution_count": 4,
   "metadata": {},
   "outputs": [],
   "source": [
    "# Shift an image down and/or right by a specified amount (in pixels)\n",
    "def shift_image(image, num_px_down=0, num_px_right=0):\n",
    "    return interp.shift(image, [num_px_down, num_px_right], cval=0)"
   ]
  },
  {
   "cell_type": "code",
   "execution_count": 5,
   "metadata": {},
   "outputs": [],
   "source": [
    "# Displays a row of images\n",
    "def display_images(images):\n",
    "    num_images = len(images)\n",
    "    f, ax = plt.subplots(1, num_images)\n",
    "    for i in range(num_images):\n",
    "        ax[i].imshow(images[i], cmap='binary')\n",
    "    \n",
    "    plt.axis=('off')\n",
    "    plt.show()"
   ]
  },
  {
   "cell_type": "code",
   "execution_count": 6,
   "metadata": {},
   "outputs": [],
   "source": [
    "# Reshape images in dataset (28 pixels by 28 pixels)\n",
    "X_reshaped = [image.reshape(28, 28) for image in X]"
   ]
  },
  {
   "cell_type": "code",
   "execution_count": 7,
   "metadata": {},
   "outputs": [
    {
     "name": "stdout",
     "output_type": "stream",
     "text": [
      "Images processed: 10000\n",
      "Images processed: 20000\n",
      "Images processed: 30000\n",
      "Images processed: 40000\n",
      "Images processed: 50000\n",
      "Images processed: 60000\n",
      "Images processed: 70000\n"
     ]
    }
   ],
   "source": [
    "# Perform data augmentation (shift each image up/right/down/left by 1 pixel each)\n",
    "directions = [(0, 1), (1, 0), (0, -1), (-1, 0)]\n",
    "X_shifted = []\n",
    "\n",
    "for i, image in enumerate(X_reshaped):\n",
    "    X_shifted.append(image)\n",
    "    for (num_px_down, num_px_right) in directions:\n",
    "        shifted_image = shift_image(image, num_px_down, num_px_right)\n",
    "        X_shifted.append(shifted_image)\n",
    "    if (i+1) % 10000 == 0 and i != 0:\n",
    "        print(f'Images processed: {i+1}')"
   ]
  },
  {
   "cell_type": "code",
   "execution_count": 8,
   "metadata": {},
   "outputs": [
    {
     "data": {
      "image/png": "[encoded data removed]",
      "text/plain": [
       "<Figure size 432x288 with 5 Axes>"
      ]
     },
     "metadata": {
      "needs_background": "light"
     },
     "output_type": "display_data"
    },
    {
     "data": {
      "image/png": "[encoded data removed]",
      "text/plain": [
       "<Figure size 432x288 with 5 Axes>"
      ]
     },
     "metadata": {
      "needs_background": "light"
     },
     "output_type": "display_data"
    },
    {
     "data": {
      "image/png": "[encoded data removed]",
      "text/plain": [
       "<Figure size 432x288 with 5 Axes>"
      ]
     },
     "metadata": {
      "needs_background": "light"
     },
     "output_type": "display_data"
    },
    {
     "data": {
      "image/png": "[encoded data removed]",
      "text/plain": [
       "<Figure size 432x288 with 5 Axes>"
      ]
     },
     "metadata": {
      "needs_background": "light"
     },
     "output_type": "display_data"
    }
   ],
   "source": [
    "# See result of augmentation\n",
    "copies = 5\n",
    "num_items = 4\n",
    "start = 100\n",
    "\n",
    "for i in range(start, start + len(X_shifted[:num_items*copies]), copies):\n",
    "    display_images(X_shifted[i:i+copies])"
   ]
  },
  {
   "cell_type": "code",
   "execution_count": 9,
   "metadata": {},
   "outputs": [],
   "source": [
    "# Finally flatten all images back to original feature vectors\n",
    "X_new = [image.flatten() for image in X_shifted]"
   ]
  },
  {
   "cell_type": "code",
   "execution_count": 37,
   "metadata": {},
   "outputs": [],
   "source": [
    "# Extend labels list\n",
    "y_new = []\n",
    "for label in y:\n",
    "    y_new.extend([label] * copies)"
   ]
  },
  {
   "cell_type": "code",
   "execution_count": 38,
   "metadata": {},
   "outputs": [
    {
     "data": {
      "text/plain": [
       "(350000, (28, 28), 350000, 784, 350000)"
      ]
     },
     "execution_count": 38,
     "metadata": {},
     "output_type": "execute_result"
    }
   ],
   "source": [
    "# Check len's and shapes are as expected\n",
    "len(X_shifted), X_shifted[0].shape, len(X_new), X_new[0].shape[0], len(y_new)"
   ]
  },
  {
   "cell_type": "markdown",
   "metadata": {},
   "source": [
    "X_new now contains the augmented dataset and y_new contains the extended list of labels to accomodate the augmented dataset."
   ]
  },
  {
   "cell_type": "code",
   "execution_count": null,
   "metadata": {},
   "outputs": [],
   "source": []
  }
 ],
 "metadata": {
  "kernelspec": {
   "display_name": "Python 3",
   "language": "python",
   "name": "python3"
  },
  "language_info": {
   "codemirror_mode": {
    "name": "ipython",
    "version": 3
   },
   "file_extension": ".py",
   "mimetype": "text/x-python",
   "name": "python",
   "nbconvert_exporter": "python",
   "pygments_lexer": "ipython3",
   "version": "3.7.4"
  }
 },
 "nbformat": 4,
 "nbformat_minor": 2
}
