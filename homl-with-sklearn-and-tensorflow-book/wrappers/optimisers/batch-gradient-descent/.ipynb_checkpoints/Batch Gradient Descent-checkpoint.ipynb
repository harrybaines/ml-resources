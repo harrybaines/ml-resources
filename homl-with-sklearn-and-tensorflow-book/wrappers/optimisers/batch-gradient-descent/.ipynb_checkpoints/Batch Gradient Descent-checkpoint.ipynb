{
 "cells": [
  {
   "cell_type": "markdown",
   "metadata": {},
   "source": [
    "### Batch Gradient Descent"
   ]
  },
  {
   "cell_type": "code",
   "execution_count": 4,
   "metadata": {},
   "outputs": [],
   "source": [
    "# Import dependencies\n",
    "import numpy as np\n",
    "np.random.seed(42)"
   ]
  },
  {
   "cell_type": "code",
   "execution_count": 5,
   "metadata": {},
   "outputs": [],
   "source": [
    "def batch_gd(X, y, eta=0.1, n_iterations=1000):\n",
    "    m = X.shape[0]\n",
    "    print(m)\n",
    "\n",
    "    theta = np.random.randn(2,1)\n",
    "\n",
    "    for iteration in range(n_iterations):\n",
    "        gradients = 2/m * X.T.dot(X.dot(theta) - y)\n",
    "        theta = theta - eta * gradients\n",
    "\n",
    "    return theta"
   ]
  },
  {
   "cell_type": "code",
   "execution_count": 6,
   "metadata": {},
   "outputs": [
    {
     "name": "stdout",
     "output_type": "stream",
     "text": [
      "Theta: [[ 7.21509616  4.21509616]\n",
      " [-0.22988661  2.77011339]]\n"
     ]
    }
   ],
   "source": [
    "# Create dataset\n",
    "n_items = 100\n",
    "X = 2 * np.random.rand(n_items, 1)\n",
    "X_b = np.c_[np.ones((n_items, 1)), X] \n",
    "y = 4 + 3 * X_b + np.random.randn(n_items, 1) \n",
    "\n",
    "# Run batch gradient descent to obtain parameters\n",
    "theta = batch_gd(X_b, y)\n",
    "print(f'Theta: {theta}')"
   ]
  },
  {
   "cell_type": "code",
   "execution_count": null,
   "metadata": {},
   "outputs": [],
   "source": []
  },
  {
   "cell_type": "code",
   "execution_count": null,
   "metadata": {},
   "outputs": [],
   "source": []
  },
  {
   "cell_type": "code",
   "execution_count": null,
   "metadata": {},
   "outputs": [],
   "source": []
  }
 ],
 "metadata": {
  "kernelspec": {
   "display_name": "Python 3",
   "language": "python",
   "name": "python3"
  },
  "language_info": {
   "codemirror_mode": {
    "name": "ipython",
    "version": 3
   },
   "file_extension": ".py",
   "mimetype": "text/x-python",
   "name": "python",
   "nbconvert_exporter": "python",
   "pygments_lexer": "ipython3",
   "version": "3.7.4"
  }
 },
 "nbformat": 4,
 "nbformat_minor": 2
}
