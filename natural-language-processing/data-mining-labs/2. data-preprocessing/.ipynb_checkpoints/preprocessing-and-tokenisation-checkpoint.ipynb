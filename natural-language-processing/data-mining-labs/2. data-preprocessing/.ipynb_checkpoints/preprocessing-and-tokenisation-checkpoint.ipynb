{
 "cells": [
  {
   "cell_type": "markdown",
   "metadata": {},
   "source": [
    "## Preprocessing"
   ]
  },
  {
   "cell_type": "code",
   "execution_count": 29,
   "metadata": {},
   "outputs": [],
   "source": [
    "# Import dependencies\n",
    "import ftfy\n",
    "import emoji\n",
    "import regex\n",
    "import re\n",
    "import sys\n",
    "import nltk"
   ]
  },
  {
   "cell_type": "code",
   "execution_count": 23,
   "metadata": {},
   "outputs": [],
   "source": [
    "def output_data(data, filename):\n",
    "    ''' Outputs data to a file '''\n",
    "    with open(filename, 'w', encoding=\"utf-8\") as file:\n",
    "        file.write(data)"
   ]
  },
  {
   "cell_type": "code",
   "execution_count": 22,
   "metadata": {},
   "outputs": [],
   "source": [
    "def read_file(filename):\n",
    "    ''' Reads data from a file '''\n",
    "    with open(filename) as f:\n",
    "        data = f.read()\n",
    "    return data"
   ]
  },
  {
   "cell_type": "code",
   "execution_count": 8,
   "metadata": {},
   "outputs": [],
   "source": [
    "def fix_text(text):\n",
    "    ''' Fixes the garbled input text '''\n",
    "    return ftfy.fix_text(text)"
   ]
  },
  {
   "cell_type": "code",
   "execution_count": 9,
   "metadata": {},
   "outputs": [],
   "source": [
    "def remove_emojis(text):\n",
    "    ''' Removes emojis from the input text '''\n",
    "    emojis = [c for c in text if c in emoji.UNICODE_EMOJI]\n",
    "    emoji_opts = '|'.join(emojis)\n",
    "    text, removed = re.subn(f\"({emoji_opts})\", '', text)\n",
    "    return text, removed\n",
    "\n",
    "def remove_emoticons(text):\n",
    "    ''' Removes emoticons from the input text '''\n",
    "    return re.subn(r'(:|;|=)(?:-)?(?:\\)|\\(|D|P)', '', text)"
   ]
  },
  {
   "cell_type": "markdown",
   "metadata": {},
   "source": [
    "## Tokenisation"
   ]
  },
  {
   "cell_type": "code",
   "execution_count": 13,
   "metadata": {},
   "outputs": [],
   "source": [
    "def tokenise_file(textfile, tokenise):\n",
    "    ''' Takes a text file (to be read line by line) and tokeniser function and returns a list of tokens '''\n",
    "    with open(textfile, encoding=\"utf-8\") as f:\n",
    "        tokens = []\n",
    "        lines = f.readlines()\n",
    "        for line in lines:\n",
    "            line_tokens = tokenise(line.strip())\n",
    "            tokens.extend(line_tokens)\n",
    "    return tokens"
   ]
  },
  {
   "cell_type": "code",
   "execution_count": 14,
   "metadata": {},
   "outputs": [],
   "source": [
    "def print_tokens(tokens):\n",
    "    ''' Prints a list of tokens '''\n",
    "    for token in tokens:\n",
    "        print(token)\n",
    "    print(f\"Total: {len(tokens)} tokens\")"
   ]
  },
  {
   "cell_type": "code",
   "execution_count": 15,
   "metadata": {},
   "outputs": [],
   "source": [
    "def save_tokens(tokens, outfile):\n",
    "    ''' Saves a list of tokens to a file '''\n",
    "    with open(outfile, 'w', encoding=\"utf-8\") as f:\n",
    "        for token in tokens:\n",
    "            f.write(token + '\\n')\n",
    "        f.write(f\"Total: {len(tokens)} tokens\")"
   ]
  },
  {
   "cell_type": "code",
   "execution_count": 18,
   "metadata": {},
   "outputs": [],
   "source": [
    "def whitespace_tokenise(text):\n",
    "    ''' Tokenises the input text by splitting on whitespace '''\n",
    "    return text.split(\" \")"
   ]
  },
  {
   "cell_type": "code",
   "execution_count": 19,
   "metadata": {},
   "outputs": [],
   "source": [
    "def nltk_tokenise(text):\n",
    "    ''' NLTK tokeniser function '''\n",
    "    return nltk.word_tokenize(text)"
   ]
  },
  {
   "cell_type": "code",
   "execution_count": 20,
   "metadata": {},
   "outputs": [],
   "source": [
    "def nltk_twitter_tokenise(text):\n",
    "    ''' NLTK Twitter tokeniser function '''\n",
    "    twtok = nltk.tokenize.TweetTokenizer()\n",
    "    return twtok.tokenize(text)"
   ]
  },
  {
   "cell_type": "markdown",
   "metadata": {},
   "source": [
    "### Dealing with contractions"
   ]
  },
  {
   "cell_type": "code",
   "execution_count": 24,
   "metadata": {},
   "outputs": [
    {
     "data": {
      "text/plain": [
       "'i cannot do it'"
      ]
     },
     "execution_count": 24,
     "metadata": {},
     "output_type": "execute_result"
    }
   ],
   "source": [
    "# Define list of regex and replacement tuples\n",
    "replacements = [\n",
    "    (r'won\\'t', 'will not'),\n",
    "    (r'can\\'t', 'cannot'),\n",
    "    (r'don\\'t', 'do not'),\n",
    "    (r'they\\'re', 'they are'),\n",
    "    (r'I\\'m', 'I am'),\n",
    "    (r'i\\'m', 'i am'),\n",
    "    (r'It\\'s', 'It is'),\n",
    "    (r'it\\'s', 'it is'),\n",
    "    (r'I\\'ve', 'I have'),\n",
    "    (r'i\\'ve', 'i have'),\n",
    "    (r'doesn\\'t', 'does not'),\n",
    "    (r'we\\'ve', 'we have'),\n",
    "    (r'hasn\\'t', 'has not'),\n",
    "    (r'aren\\'t', 'are not'),\n",
    "    (r'let\\'s', 'let us'),\n",
    "    (r'you\\'d', 'you would'),\n",
    "    (r'I\\'d', 'I had'),\n",
    "    (r'i\\'d', 'i had'),\n",
    "    (r'that\\'s', 'that is'),\n",
    "    (r'hadn\\'t', 'had not'),\n",
    "    (r'wasn\\'t', 'was not'),\n",
    "    (r'Let\\'s', 'Let us'),\n",
    "    (r'let\\'s', 'let us')\n",
    "]\n",
    "\n",
    "# Create list of compiled regex and replacement tuples\n",
    "patterns = [(re.compile(regex), replacement) for regex, replacement in replacements]\n",
    "\n",
    "def replace_contractions(input_text):\n",
    "    ''' Replace all contractions in input string input_txt '''\n",
    "    text = input_text\n",
    "    for (pattern, replacement) in patterns:\n",
    "        text = re.sub(pattern, replacement, text)\n",
    "    return text\n",
    "\n",
    "replace_contractions(\"i can't do it\")"
   ]
  },
  {
   "cell_type": "code",
   "execution_count": null,
   "metadata": {},
   "outputs": [],
   "source": [
    "def custom_tokenise(text):\n",
    "    ''' Custom tokeniser function '''\n",
    "    # Fix text\n",
    "    text = fix_text(text)\n",
    "    \n",
    "    # Remove emojis\n",
    "    text, _ = remove_emojis(text)\n",
    "    \n",
    "    # Deal with contractions\n",
    "    text = replace_contractions(text)\n",
    "    \n",
    "    # Construct alternating regex\n",
    "    URL = '(?:https?://)?(?:[-\\w]+\\.)+[a-zA-Z]{2,9}[-\\w/#~:;.?+=&%@~]*'\n",
    "    hashtags = '#\\w+'\n",
    "    mentions = '@\\w+'\n",
    "    word = \"[-\\w]+\\'?[\\w+]?\"\n",
    "    emoticons = '(?::|;|=)(?:-)?(?:\\)|\\(|D|P)'\n",
    "    punct = '[^\\w\\s]+'\n",
    "\n",
    "    # Join regex's\n",
    "    patterns = (URL, hashtags, mentions, word, emoticons, punct)\n",
    "    joint_patterns = '|'.join(patterns)\n",
    "    p = re.compile(r'(?:{})'.format(joint_patterns))\n",
    "    return p.findall(text)"
   ]
  },
  {
   "cell_type": "code",
   "execution_count": 26,
   "metadata": {},
   "outputs": [],
   "source": [
    "%matplotlib inline\n",
    "\n",
    "def frequency_analysis(tokens):\n",
    "    ''' Performs frequency analysis on a list of tokens '''\n",
    "    freq = nltk.FreqDist(tokens)\n",
    "    for key,val in freq.most_common(20):\n",
    "        print(key,val,sep=\"\\t\")\n",
    "\n",
    "    freq.plot(20, cumulative=False)"
   ]
  },
  {
   "cell_type": "markdown",
   "metadata": {},
   "source": [
    "### Example"
   ]
  },
  {
   "cell_type": "code",
   "execution_count": 45,
   "metadata": {},
   "outputs": [
    {
     "name": "stdout",
     "output_type": "stream",
     "text": [
      "the\t120\n",
      "a\t55\n",
      "to\t55\n",
      "and\t53\n",
      "I\t40\n",
      "it\t37\n",
      "\t35\n",
      "of\t34\n",
      "is\t34\n",
      "that\t27\n",
      "for\t25\n",
      "my\t25\n",
      "in\t25\n",
      "toot\t25\n",
      "have\t23\n",
      "when\t18\n",
      "off\t17\n",
      "with\t15\n",
      "on\t15\n",
      "an\t15\n"
     ]
    },
    {
     "data": {
      "image/png": "[encoded data removed]",
      "text/plain": [
       "<Figure size 432x288 with 1 Axes>"
      ]
     },
     "metadata": {
      "needs_background": "light"
     },
     "output_type": "display_data"
    }
   ],
   "source": [
    "filename = 'textfile.txt'\n",
    "\n",
    "# Read tokens from file and print\n",
    "tokens = tokenise_file(filename, whitespace_tokenise) # nltk_tokenise, nltk_twitter_tokenise\n",
    "# print_tokens(tokens)\n",
    "\n",
    "# Frequency analysis of tokens\n",
    "frequency_analysis(tokens)\n",
    "\n",
    "# Save tokens to file\n",
    "save_tokens(tokens, \"textfile_tok.txt\")"
   ]
  },
  {
   "cell_type": "code",
   "execution_count": null,
   "metadata": {},
   "outputs": [],
   "source": []
  },
  {
   "cell_type": "code",
   "execution_count": null,
   "metadata": {},
   "outputs": [],
   "source": []
  },
  {
   "cell_type": "code",
   "execution_count": null,
   "metadata": {},
   "outputs": [],
   "source": []
  },
  {
   "cell_type": "code",
   "execution_count": null,
   "metadata": {},
   "outputs": [],
   "source": []
  },
  {
   "cell_type": "code",
   "execution_count": null,
   "metadata": {},
   "outputs": [],
   "source": []
  }
 ],
 "metadata": {
  "kernelspec": {
   "display_name": "Python 3",
   "language": "python",
   "name": "python3"
  },
  "language_info": {
   "codemirror_mode": {
    "name": "ipython",
    "version": 3
   },
   "file_extension": ".py",
   "mimetype": "text/x-python",
   "name": "python",
   "nbconvert_exporter": "python",
   "pygments_lexer": "ipython3",
   "version": "3.7.4"
  }
 },
 "nbformat": 4,
 "nbformat_minor": 2
}
