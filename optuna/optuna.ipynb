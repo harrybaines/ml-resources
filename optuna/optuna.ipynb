{
  "nbformat": 4,
  "nbformat_minor": 0,
  "metadata": {
    "colab": {
      "provenance": [],
      "authorship_tag": "ABX9TyMptvL2QsGeOan/p9FzmYaJ",
      "include_colab_link": true
    },
    "kernelspec": {
      "name": "python3",
      "display_name": "Python 3"
    },
    "language_info": {
      "name": "python"
    }
  },
  "cells": [
    {
      "cell_type": "markdown",
      "metadata": {
        "id": "view-in-github",
        "colab_type": "text"
      },
      "source": [
        "<a href=\"https://colab.research.google.com/github/harrybaines/ml-resources/blob/main/optuna/optuna.ipynb\" target=\"_parent\"><img src=\"https://colab.research.google.com/assets/colab-badge.svg\" alt=\"Open In Colab\"/></a>"
      ]
    },
    {
      "cell_type": "markdown",
      "source": [
        "# Optuna Example"
      ],
      "metadata": {
        "id": "5sr0iTMt9o-G"
      }
    },
    {
      "cell_type": "markdown",
      "source": [
        "Optuna example that optimizes a classifier configuration for Iris dataset using sklearn. In this example, we optimize a classifier configuration for Iris dataset. Classifiers are from scikit-learn. We optimize both the choice of classifier (among SVC and RandomForest) and their hyperparameters."
      ],
      "metadata": {
        "id": "xAVnL0ql9UDV"
      }
    },
    {
      "cell_type": "markdown",
      "source": [
        "Optuna tutorial docs: https://optuna.readthedocs.io/en/stable/tutorial/index.html"
      ],
      "metadata": {
        "id": "RU4q4KFm9Vp_"
      }
    },
    {
      "cell_type": "code",
      "source": [
        "!pip install optuna"
      ],
      "metadata": {
        "id": "kIlt1Htb9bFM"
      },
      "execution_count": null,
      "outputs": []
    },
    {
      "cell_type": "code",
      "source": [
        "import optuna\n",
        "import sklearn.datasets\n",
        "import sklearn.ensemble\n",
        "import sklearn.model_selection\n",
        "import sklearn.svm"
      ],
      "metadata": {
        "id": "qOrZTk799V_6"
      },
      "execution_count": null,
      "outputs": []
    },
    {
      "cell_type": "code",
      "source": [
        "# FYI: Objective functions can take additional arguments\n",
        "# (https://optuna.readthedocs.io/en/stable/faq.html#objective-func-additional-args).\n",
        "def objective(trial):\n",
        "    iris = sklearn.datasets.load_iris()\n",
        "    x, y = iris.data, iris.target\n",
        "\n",
        "    classifier_name = trial.suggest_categorical(\"classifier\", [\"SVC\", \"RandomForest\"])\n",
        "    if classifier_name == \"SVC\":\n",
        "        svc_c = trial.suggest_float(\"svc_c\", 1e-10, 1e10, log=True)\n",
        "        classifier_obj = sklearn.svm.SVC(C=svc_c, gamma=\"auto\")\n",
        "    else:\n",
        "        rf_max_depth = trial.suggest_int(\"rf_max_depth\", 2, 32, log=True)\n",
        "        classifier_obj = sklearn.ensemble.RandomForestClassifier(\n",
        "            max_depth=rf_max_depth, n_estimators=10\n",
        "        )\n",
        "\n",
        "    score = sklearn.model_selection.cross_val_score(classifier_obj, x, y, n_jobs=-1, cv=3)\n",
        "    accuracy = score.mean()\n",
        "    return accuracy"
      ],
      "metadata": {
        "id": "QrPQQiY09XXE"
      },
      "execution_count": null,
      "outputs": []
    },
    {
      "cell_type": "code",
      "source": [
        "study = optuna.create_study(direction=\"maximize\")\n",
        "study.optimize(objective, n_trials=100)"
      ],
      "metadata": {
        "colab": {
          "base_uri": "https://localhost:8080/"
        },
        "id": "-mWu-Q_n9Z7r",
        "outputId": "3ff8e57d-a207-4471-8c52-8126dd162b7f"
      },
      "execution_count": null,
      "outputs": [
        {
          "output_type": "stream",
          "name": "stderr",
          "text": [
            "\u001b[32m[I 2022-10-17 12:40:57,911]\u001b[0m A new study created in memory with name: no-name-a6bd25a6-6589-45fd-8405-ef24d98864b3\u001b[0m\n",
            "\u001b[32m[I 2022-10-17 12:41:00,313]\u001b[0m Trial 0 finished with value: 0.9466666666666667 and parameters: {'classifier': 'RandomForest', 'rf_max_depth': 10}. Best is trial 0 with value: 0.9466666666666667.\u001b[0m\n",
            "\u001b[32m[I 2022-10-17 12:41:00,467]\u001b[0m Trial 1 finished with value: 0.96 and parameters: {'classifier': 'RandomForest', 'rf_max_depth': 3}. Best is trial 1 with value: 0.96.\u001b[0m\n",
            "\u001b[32m[I 2022-10-17 12:41:00,666]\u001b[0m Trial 2 finished with value: 0.96 and parameters: {'classifier': 'RandomForest', 'rf_max_depth': 21}. Best is trial 1 with value: 0.96.\u001b[0m\n",
            "\u001b[32m[I 2022-10-17 12:41:00,719]\u001b[0m Trial 3 finished with value: 0.7466666666666667 and parameters: {'classifier': 'SVC', 'svc_c': 0.026029191609081185}. Best is trial 1 with value: 0.96.\u001b[0m\n",
            "\u001b[32m[I 2022-10-17 12:41:00,763]\u001b[0m Trial 4 finished with value: 0.98 and parameters: {'classifier': 'SVC', 'svc_c': 7.37387215533868}. Best is trial 4 with value: 0.98.\u001b[0m\n",
            "\u001b[32m[I 2022-10-17 12:41:00,825]\u001b[0m Trial 5 finished with value: 0.9533333333333333 and parameters: {'classifier': 'RandomForest', 'rf_max_depth': 3}. Best is trial 4 with value: 0.98.\u001b[0m\n",
            "\u001b[32m[I 2022-10-17 12:41:00,921]\u001b[0m Trial 6 finished with value: 0.96 and parameters: {'classifier': 'RandomForest', 'rf_max_depth': 4}. Best is trial 4 with value: 0.98.\u001b[0m\n",
            "\u001b[32m[I 2022-10-17 12:41:01,004]\u001b[0m Trial 7 finished with value: 0.9466666666666667 and parameters: {'classifier': 'RandomForest', 'rf_max_depth': 14}. Best is trial 4 with value: 0.98.\u001b[0m\n",
            "\u001b[32m[I 2022-10-17 12:41:01,136]\u001b[0m Trial 8 finished with value: 0.9533333333333333 and parameters: {'classifier': 'RandomForest', 'rf_max_depth': 15}. Best is trial 4 with value: 0.98.\u001b[0m\n",
            "\u001b[32m[I 2022-10-17 12:41:01,176]\u001b[0m Trial 9 finished with value: 0.96 and parameters: {'classifier': 'SVC', 'svc_c': 1190652170.366181}. Best is trial 4 with value: 0.98.\u001b[0m\n",
            "\u001b[32m[I 2022-10-17 12:41:01,224]\u001b[0m Trial 10 finished with value: 0.32 and parameters: {'classifier': 'SVC', 'svc_c': 4.832309616561013e-10}. Best is trial 4 with value: 0.98.\u001b[0m\n",
            "\u001b[32m[I 2022-10-17 12:41:01,274]\u001b[0m Trial 11 finished with value: 0.9466666666666667 and parameters: {'classifier': 'SVC', 'svc_c': 314.24827264408856}. Best is trial 4 with value: 0.98.\u001b[0m\n",
            "\u001b[32m[I 2022-10-17 12:41:01,347]\u001b[0m Trial 12 finished with value: 0.94 and parameters: {'classifier': 'SVC', 'svc_c': 0.10507601130619502}. Best is trial 4 with value: 0.98.\u001b[0m\n",
            "\u001b[32m[I 2022-10-17 12:41:01,423]\u001b[0m Trial 13 finished with value: 0.96 and parameters: {'classifier': 'SVC', 'svc_c': 278746.37792046985}. Best is trial 4 with value: 0.98.\u001b[0m\n",
            "\u001b[32m[I 2022-10-17 12:41:01,454]\u001b[0m Trial 14 finished with value: 0.32 and parameters: {'classifier': 'SVC', 'svc_c': 1.6578493293533e-06}. Best is trial 4 with value: 0.98.\u001b[0m\n",
            "\u001b[32m[I 2022-10-17 12:41:01,544]\u001b[0m Trial 15 finished with value: 0.9466666666666667 and parameters: {'classifier': 'RandomForest', 'rf_max_depth': 2}. Best is trial 4 with value: 0.98.\u001b[0m\n",
            "\u001b[32m[I 2022-10-17 12:41:01,631]\u001b[0m Trial 16 finished with value: 0.9666666666666667 and parameters: {'classifier': 'RandomForest', 'rf_max_depth': 6}. Best is trial 4 with value: 0.98.\u001b[0m\n",
            "\u001b[32m[I 2022-10-17 12:41:01,658]\u001b[0m Trial 17 finished with value: 0.96 and parameters: {'classifier': 'SVC', 'svc_c': 3494.781415185582}. Best is trial 4 with value: 0.98.\u001b[0m\n",
            "\u001b[32m[I 2022-10-17 12:41:01,738]\u001b[0m Trial 18 finished with value: 0.94 and parameters: {'classifier': 'RandomForest', 'rf_max_depth': 6}. Best is trial 4 with value: 0.98.\u001b[0m\n",
            "\u001b[32m[I 2022-10-17 12:41:01,780]\u001b[0m Trial 19 finished with value: 0.32 and parameters: {'classifier': 'SVC', 'svc_c': 4.67426310476161e-05}. Best is trial 4 with value: 0.98.\u001b[0m\n",
            "\u001b[32m[I 2022-10-17 12:41:01,851]\u001b[0m Trial 20 finished with value: 0.96 and parameters: {'classifier': 'RandomForest', 'rf_max_depth': 7}. Best is trial 4 with value: 0.98.\u001b[0m\n",
            "\u001b[32m[I 2022-10-17 12:41:01,981]\u001b[0m Trial 21 finished with value: 0.9666666666666667 and parameters: {'classifier': 'RandomForest', 'rf_max_depth': 7}. Best is trial 4 with value: 0.98.\u001b[0m\n",
            "\u001b[32m[I 2022-10-17 12:41:02,123]\u001b[0m Trial 22 finished with value: 0.9666666666666667 and parameters: {'classifier': 'RandomForest', 'rf_max_depth': 6}. Best is trial 4 with value: 0.98.\u001b[0m\n",
            "\u001b[32m[I 2022-10-17 12:41:02,275]\u001b[0m Trial 23 finished with value: 0.9533333333333333 and parameters: {'classifier': 'RandomForest', 'rf_max_depth': 5}. Best is trial 4 with value: 0.98.\u001b[0m\n",
            "\u001b[32m[I 2022-10-17 12:41:02,412]\u001b[0m Trial 24 finished with value: 0.9533333333333333 and parameters: {'classifier': 'RandomForest', 'rf_max_depth': 31}. Best is trial 4 with value: 0.98.\u001b[0m\n",
            "\u001b[32m[I 2022-10-17 12:41:02,542]\u001b[0m Trial 25 finished with value: 0.9666666666666667 and parameters: {'classifier': 'RandomForest', 'rf_max_depth': 9}. Best is trial 4 with value: 0.98.\u001b[0m\n",
            "\u001b[32m[I 2022-10-17 12:41:02,579]\u001b[0m Trial 26 finished with value: 0.96 and parameters: {'classifier': 'SVC', 'svc_c': 2653766323.308397}. Best is trial 4 with value: 0.98.\u001b[0m\n",
            "\u001b[32m[I 2022-10-17 12:41:02,697]\u001b[0m Trial 27 finished with value: 0.96 and parameters: {'classifier': 'RandomForest', 'rf_max_depth': 10}. Best is trial 4 with value: 0.98.\u001b[0m\n",
            "\u001b[32m[I 2022-10-17 12:41:02,761]\u001b[0m Trial 28 finished with value: 0.96 and parameters: {'classifier': 'SVC', 'svc_c': 1352400.1637296493}. Best is trial 4 with value: 0.98.\u001b[0m\n",
            "\u001b[32m[I 2022-10-17 12:41:02,901]\u001b[0m Trial 29 finished with value: 0.9666666666666667 and parameters: {'classifier': 'RandomForest', 'rf_max_depth': 4}. Best is trial 4 with value: 0.98.\u001b[0m\n",
            "\u001b[32m[I 2022-10-17 12:41:03,092]\u001b[0m Trial 30 finished with value: 0.9733333333333333 and parameters: {'classifier': 'RandomForest', 'rf_max_depth': 2}. Best is trial 4 with value: 0.98.\u001b[0m\n",
            "\u001b[32m[I 2022-10-17 12:41:03,228]\u001b[0m Trial 31 finished with value: 0.9733333333333333 and parameters: {'classifier': 'RandomForest', 'rf_max_depth': 2}. Best is trial 4 with value: 0.98.\u001b[0m\n",
            "\u001b[32m[I 2022-10-17 12:41:03,403]\u001b[0m Trial 32 finished with value: 0.94 and parameters: {'classifier': 'RandomForest', 'rf_max_depth': 2}. Best is trial 4 with value: 0.98.\u001b[0m\n",
            "\u001b[32m[I 2022-10-17 12:41:03,598]\u001b[0m Trial 33 finished with value: 0.9533333333333333 and parameters: {'classifier': 'RandomForest', 'rf_max_depth': 2}. Best is trial 4 with value: 0.98.\u001b[0m\n",
            "\u001b[32m[I 2022-10-17 12:41:03,731]\u001b[0m Trial 34 finished with value: 0.9533333333333333 and parameters: {'classifier': 'RandomForest', 'rf_max_depth': 3}. Best is trial 4 with value: 0.98.\u001b[0m\n",
            "\u001b[32m[I 2022-10-17 12:41:03,910]\u001b[0m Trial 35 finished with value: 0.9533333333333333 and parameters: {'classifier': 'RandomForest', 'rf_max_depth': 2}. Best is trial 4 with value: 0.98.\u001b[0m\n",
            "\u001b[32m[I 2022-10-17 12:41:04,060]\u001b[0m Trial 36 finished with value: 0.96 and parameters: {'classifier': 'RandomForest', 'rf_max_depth': 3}. Best is trial 4 with value: 0.98.\u001b[0m\n",
            "\u001b[32m[I 2022-10-17 12:41:04,190]\u001b[0m Trial 37 finished with value: 0.96 and parameters: {'classifier': 'RandomForest', 'rf_max_depth': 3}. Best is trial 4 with value: 0.98.\u001b[0m\n",
            "\u001b[32m[I 2022-10-17 12:41:04,397]\u001b[0m Trial 38 finished with value: 0.9533333333333333 and parameters: {'classifier': 'RandomForest', 'rf_max_depth': 4}. Best is trial 4 with value: 0.98.\u001b[0m\n",
            "\u001b[32m[I 2022-10-17 12:41:04,452]\u001b[0m Trial 39 finished with value: 0.96 and parameters: {'classifier': 'SVC', 'svc_c': 54.455784799694136}. Best is trial 4 with value: 0.98.\u001b[0m\n",
            "\u001b[32m[I 2022-10-17 12:41:04,618]\u001b[0m Trial 40 finished with value: 0.96 and parameters: {'classifier': 'RandomForest', 'rf_max_depth': 9}. Best is trial 4 with value: 0.98.\u001b[0m\n",
            "\u001b[32m[I 2022-10-17 12:41:04,834]\u001b[0m Trial 41 finished with value: 0.96 and parameters: {'classifier': 'RandomForest', 'rf_max_depth': 4}. Best is trial 4 with value: 0.98.\u001b[0m\n",
            "\u001b[32m[I 2022-10-17 12:41:04,981]\u001b[0m Trial 42 finished with value: 0.96 and parameters: {'classifier': 'RandomForest', 'rf_max_depth': 13}. Best is trial 4 with value: 0.98.\u001b[0m\n",
            "\u001b[32m[I 2022-10-17 12:41:05,152]\u001b[0m Trial 43 finished with value: 0.9466666666666667 and parameters: {'classifier': 'RandomForest', 'rf_max_depth': 7}. Best is trial 4 with value: 0.98.\u001b[0m\n",
            "\u001b[32m[I 2022-10-17 12:41:05,308]\u001b[0m Trial 44 finished with value: 0.9533333333333333 and parameters: {'classifier': 'RandomForest', 'rf_max_depth': 9}. Best is trial 4 with value: 0.98.\u001b[0m\n",
            "\u001b[32m[I 2022-10-17 12:41:05,501]\u001b[0m Trial 45 finished with value: 0.9466666666666667 and parameters: {'classifier': 'RandomForest', 'rf_max_depth': 11}. Best is trial 4 with value: 0.98.\u001b[0m\n",
            "\u001b[32m[I 2022-10-17 12:41:05,561]\u001b[0m Trial 46 finished with value: 0.32 and parameters: {'classifier': 'SVC', 'svc_c': 0.00012129103868687575}. Best is trial 4 with value: 0.98.\u001b[0m\n",
            "\u001b[32m[I 2022-10-17 12:41:05,699]\u001b[0m Trial 47 finished with value: 0.9533333333333333 and parameters: {'classifier': 'RandomForest', 'rf_max_depth': 19}. Best is trial 4 with value: 0.98.\u001b[0m\n",
            "\u001b[32m[I 2022-10-17 12:41:05,744]\u001b[0m Trial 48 finished with value: 0.32 and parameters: {'classifier': 'SVC', 'svc_c': 1.6745078422960403e-10}. Best is trial 4 with value: 0.98.\u001b[0m\n",
            "\u001b[32m[I 2022-10-17 12:41:05,891]\u001b[0m Trial 49 finished with value: 0.94 and parameters: {'classifier': 'RandomForest', 'rf_max_depth': 5}. Best is trial 4 with value: 0.98.\u001b[0m\n",
            "\u001b[32m[I 2022-10-17 12:41:05,929]\u001b[0m Trial 50 finished with value: 0.32 and parameters: {'classifier': 'SVC', 'svc_c': 8.517975586455639e-08}. Best is trial 4 with value: 0.98.\u001b[0m\n",
            "\u001b[32m[I 2022-10-17 12:41:06,007]\u001b[0m Trial 51 finished with value: 0.9533333333333333 and parameters: {'classifier': 'RandomForest', 'rf_max_depth': 5}. Best is trial 4 with value: 0.98.\u001b[0m\n",
            "\u001b[32m[I 2022-10-17 12:41:06,078]\u001b[0m Trial 52 finished with value: 0.96 and parameters: {'classifier': 'RandomForest', 'rf_max_depth': 8}. Best is trial 4 with value: 0.98.\u001b[0m\n",
            "\u001b[32m[I 2022-10-17 12:41:06,148]\u001b[0m Trial 53 finished with value: 0.96 and parameters: {'classifier': 'RandomForest', 'rf_max_depth': 12}. Best is trial 4 with value: 0.98.\u001b[0m\n",
            "\u001b[32m[I 2022-10-17 12:41:06,217]\u001b[0m Trial 54 finished with value: 0.9466666666666667 and parameters: {'classifier': 'RandomForest', 'rf_max_depth': 6}. Best is trial 4 with value: 0.98.\u001b[0m\n",
            "\u001b[32m[I 2022-10-17 12:41:06,288]\u001b[0m Trial 55 finished with value: 0.9533333333333333 and parameters: {'classifier': 'RandomForest', 'rf_max_depth': 4}. Best is trial 4 with value: 0.98.\u001b[0m\n",
            "\u001b[32m[I 2022-10-17 12:41:06,359]\u001b[0m Trial 56 finished with value: 0.96 and parameters: {'classifier': 'RandomForest', 'rf_max_depth': 16}. Best is trial 4 with value: 0.98.\u001b[0m\n",
            "\u001b[32m[I 2022-10-17 12:41:06,384]\u001b[0m Trial 57 finished with value: 0.9733333333333333 and parameters: {'classifier': 'SVC', 'svc_c': 2.011492250197673}. Best is trial 4 with value: 0.98.\u001b[0m\n",
            "\u001b[32m[I 2022-10-17 12:41:06,414]\u001b[0m Trial 58 finished with value: 0.9666666666666667 and parameters: {'classifier': 'SVC', 'svc_c': 0.15832535229630174}. Best is trial 4 with value: 0.98.\u001b[0m\n",
            "\u001b[32m[I 2022-10-17 12:41:06,444]\u001b[0m Trial 59 finished with value: 0.98 and parameters: {'classifier': 'SVC', 'svc_c': 8.696055022037747}. Best is trial 4 with value: 0.98.\u001b[0m\n",
            "\u001b[32m[I 2022-10-17 12:41:06,484]\u001b[0m Trial 60 finished with value: 0.98 and parameters: {'classifier': 'SVC', 'svc_c': 7.160197486224357}. Best is trial 4 with value: 0.98.\u001b[0m\n",
            "\u001b[32m[I 2022-10-17 12:41:06,514]\u001b[0m Trial 61 finished with value: 0.9733333333333333 and parameters: {'classifier': 'SVC', 'svc_c': 1.8710722222570837}. Best is trial 4 with value: 0.98.\u001b[0m\n",
            "\u001b[32m[I 2022-10-17 12:41:06,545]\u001b[0m Trial 62 finished with value: 0.98 and parameters: {'classifier': 'SVC', 'svc_c': 9.07764507040016}. Best is trial 4 with value: 0.98.\u001b[0m\n",
            "\u001b[32m[I 2022-10-17 12:41:06,571]\u001b[0m Trial 63 finished with value: 0.98 and parameters: {'classifier': 'SVC', 'svc_c': 5.533036963065305}. Best is trial 4 with value: 0.98.\u001b[0m\n",
            "\u001b[32m[I 2022-10-17 12:41:06,596]\u001b[0m Trial 64 finished with value: 0.9733333333333333 and parameters: {'classifier': 'SVC', 'svc_c': 14.826527948275954}. Best is trial 4 with value: 0.98.\u001b[0m\n",
            "\u001b[32m[I 2022-10-17 12:41:06,622]\u001b[0m Trial 65 finished with value: 0.98 and parameters: {'classifier': 'SVC', 'svc_c': 7.8017915413313546}. Best is trial 4 with value: 0.98.\u001b[0m\n",
            "\u001b[32m[I 2022-10-17 12:41:06,654]\u001b[0m Trial 66 finished with value: 0.96 and parameters: {'classifier': 'SVC', 'svc_c': 34.515918289013754}. Best is trial 4 with value: 0.98.\u001b[0m\n",
            "\u001b[32m[I 2022-10-17 12:41:06,685]\u001b[0m Trial 67 finished with value: 0.9733333333333333 and parameters: {'classifier': 'SVC', 'svc_c': 11.906210927106049}. Best is trial 4 with value: 0.98.\u001b[0m\n",
            "\u001b[32m[I 2022-10-17 12:41:06,716]\u001b[0m Trial 68 finished with value: 0.96 and parameters: {'classifier': 'SVC', 'svc_c': 4037.6957440131646}. Best is trial 4 with value: 0.98.\u001b[0m\n",
            "\u001b[32m[I 2022-10-17 12:41:06,752]\u001b[0m Trial 69 finished with value: 0.32 and parameters: {'classifier': 'SVC', 'svc_c': 0.016358995448568663}. Best is trial 4 with value: 0.98.\u001b[0m\n",
            "\u001b[32m[I 2022-10-17 12:41:06,791]\u001b[0m Trial 70 finished with value: 0.96 and parameters: {'classifier': 'SVC', 'svc_c': 642.3742269353546}. Best is trial 4 with value: 0.98.\u001b[0m\n",
            "\u001b[32m[I 2022-10-17 12:41:06,817]\u001b[0m Trial 71 finished with value: 0.9666666666666667 and parameters: {'classifier': 'SVC', 'svc_c': 2.25520849967274}. Best is trial 4 with value: 0.98.\u001b[0m\n",
            "\u001b[32m[I 2022-10-17 12:41:06,845]\u001b[0m Trial 72 finished with value: 0.9666666666666667 and parameters: {'classifier': 'SVC', 'svc_c': 1.5216242797009487}. Best is trial 4 with value: 0.98.\u001b[0m\n",
            "\u001b[32m[I 2022-10-17 12:41:06,879]\u001b[0m Trial 73 finished with value: 0.7533333333333333 and parameters: {'classifier': 'SVC', 'svc_c': 0.028798191462500376}. Best is trial 4 with value: 0.98.\u001b[0m\n",
            "\u001b[32m[I 2022-10-17 12:41:06,905]\u001b[0m Trial 74 finished with value: 0.9666666666666667 and parameters: {'classifier': 'SVC', 'svc_c': 2.3057310165604425}. Best is trial 4 with value: 0.98.\u001b[0m\n",
            "\u001b[32m[I 2022-10-17 12:41:06,953]\u001b[0m Trial 75 finished with value: 0.32 and parameters: {'classifier': 'SVC', 'svc_c': 0.002367553528232944}. Best is trial 4 with value: 0.98.\u001b[0m\n",
            "\u001b[32m[I 2022-10-17 12:41:06,984]\u001b[0m Trial 76 finished with value: 0.9466666666666667 and parameters: {'classifier': 'SVC', 'svc_c': 320.0665755958472}. Best is trial 4 with value: 0.98.\u001b[0m\n",
            "\u001b[32m[I 2022-10-17 12:41:07,011]\u001b[0m Trial 77 finished with value: 0.96 and parameters: {'classifier': 'SVC', 'svc_c': 30369.59891651452}. Best is trial 4 with value: 0.98.\u001b[0m\n",
            "\u001b[32m[I 2022-10-17 12:41:07,039]\u001b[0m Trial 78 finished with value: 0.96 and parameters: {'classifier': 'SVC', 'svc_c': 0.4746854847581895}. Best is trial 4 with value: 0.98.\u001b[0m\n",
            "\u001b[32m[I 2022-10-17 12:41:07,066]\u001b[0m Trial 79 finished with value: 0.96 and parameters: {'classifier': 'SVC', 'svc_c': 63.516886160427305}. Best is trial 4 with value: 0.98.\u001b[0m\n",
            "\u001b[32m[I 2022-10-17 12:41:07,094]\u001b[0m Trial 80 finished with value: 0.32 and parameters: {'classifier': 'SVC', 'svc_c': 0.005704443807624398}. Best is trial 4 with value: 0.98.\u001b[0m\n",
            "\u001b[32m[I 2022-10-17 12:41:07,123]\u001b[0m Trial 81 finished with value: 0.98 and parameters: {'classifier': 'SVC', 'svc_c': 10.504434093342752}. Best is trial 4 with value: 0.98.\u001b[0m\n",
            "\u001b[32m[I 2022-10-17 12:41:07,150]\u001b[0m Trial 82 finished with value: 0.96 and parameters: {'classifier': 'SVC', 'svc_c': 994.6847132754247}. Best is trial 4 with value: 0.98.\u001b[0m\n",
            "\u001b[32m[I 2022-10-17 12:41:07,178]\u001b[0m Trial 83 finished with value: 0.9733333333333333 and parameters: {'classifier': 'SVC', 'svc_c': 14.77254250609249}. Best is trial 4 with value: 0.98.\u001b[0m\n",
            "\u001b[32m[I 2022-10-17 12:41:07,204]\u001b[0m Trial 84 finished with value: 0.96 and parameters: {'classifier': 'SVC', 'svc_c': 32.65646194144523}. Best is trial 4 with value: 0.98.\u001b[0m\n",
            "\u001b[32m[I 2022-10-17 12:41:07,231]\u001b[0m Trial 85 finished with value: 0.96 and parameters: {'classifier': 'SVC', 'svc_c': 0.18636294369078618}. Best is trial 4 with value: 0.98.\u001b[0m\n",
            "\u001b[32m[I 2022-10-17 12:41:07,261]\u001b[0m Trial 86 finished with value: 0.9733333333333333 and parameters: {'classifier': 'SVC', 'svc_c': 3.4606027462183713}. Best is trial 4 with value: 0.98.\u001b[0m\n",
            "\u001b[32m[I 2022-10-17 12:41:07,288]\u001b[0m Trial 87 finished with value: 0.98 and parameters: {'classifier': 'SVC', 'svc_c': 3.5720793192109705}. Best is trial 4 with value: 0.98.\u001b[0m\n",
            "\u001b[32m[I 2022-10-17 12:41:07,320]\u001b[0m Trial 88 finished with value: 0.9466666666666667 and parameters: {'classifier': 'SVC', 'svc_c': 186.25157603434053}. Best is trial 4 with value: 0.98.\u001b[0m\n",
            "\u001b[32m[I 2022-10-17 12:41:07,349]\u001b[0m Trial 89 finished with value: 0.98 and parameters: {'classifier': 'SVC', 'svc_c': 10.208809994903858}. Best is trial 4 with value: 0.98.\u001b[0m\n",
            "\u001b[32m[I 2022-10-17 12:41:07,379]\u001b[0m Trial 90 finished with value: 0.96 and parameters: {'classifier': 'SVC', 'svc_c': 0.20443607344614612}. Best is trial 4 with value: 0.98.\u001b[0m\n",
            "\u001b[32m[I 2022-10-17 12:41:07,407]\u001b[0m Trial 91 finished with value: 0.96 and parameters: {'classifier': 'SVC', 'svc_c': 129.93334942411386}. Best is trial 4 with value: 0.98.\u001b[0m\n",
            "\u001b[32m[I 2022-10-17 12:41:07,432]\u001b[0m Trial 92 finished with value: 0.9733333333333333 and parameters: {'classifier': 'SVC', 'svc_c': 14.009428578816202}. Best is trial 4 with value: 0.98.\u001b[0m\n",
            "\u001b[32m[I 2022-10-17 12:41:07,459]\u001b[0m Trial 93 finished with value: 0.96 and parameters: {'classifier': 'SVC', 'svc_c': 5416.444968811383}. Best is trial 4 with value: 0.98.\u001b[0m\n",
            "\u001b[32m[I 2022-10-17 12:41:07,486]\u001b[0m Trial 94 finished with value: 0.96 and parameters: {'classifier': 'SVC', 'svc_c': 0.4478245811769434}. Best is trial 4 with value: 0.98.\u001b[0m\n",
            "\u001b[32m[I 2022-10-17 12:41:07,514]\u001b[0m Trial 95 finished with value: 0.98 and parameters: {'classifier': 'SVC', 'svc_c': 9.592731315389104}. Best is trial 4 with value: 0.98.\u001b[0m\n",
            "\u001b[32m[I 2022-10-17 12:41:07,540]\u001b[0m Trial 96 finished with value: 0.98 and parameters: {'classifier': 'SVC', 'svc_c': 7.239679729872674}. Best is trial 4 with value: 0.98.\u001b[0m\n",
            "\u001b[32m[I 2022-10-17 12:41:07,574]\u001b[0m Trial 97 finished with value: 0.96 and parameters: {'classifier': 'SVC', 'svc_c': 82.56265752856588}. Best is trial 4 with value: 0.98.\u001b[0m\n",
            "\u001b[32m[I 2022-10-17 12:41:07,605]\u001b[0m Trial 98 finished with value: 0.9266666666666666 and parameters: {'classifier': 'SVC', 'svc_c': 0.06051200135160254}. Best is trial 4 with value: 0.98.\u001b[0m\n",
            "\u001b[32m[I 2022-10-17 12:41:07,638]\u001b[0m Trial 99 finished with value: 0.98 and parameters: {'classifier': 'SVC', 'svc_c': 7.629374750058254}. Best is trial 4 with value: 0.98.\u001b[0m\n"
          ]
        }
      ]
    },
    {
      "cell_type": "code",
      "source": [
        "study.best_trial"
      ],
      "metadata": {
        "colab": {
          "base_uri": "https://localhost:8080/"
        },
        "id": "w6A4DFj_9iVg",
        "outputId": "d46feb6a-f9c6-4747-acd5-61ff930a93f7"
      },
      "execution_count": null,
      "outputs": [
        {
          "output_type": "execute_result",
          "data": {
            "text/plain": [
              "FrozenTrial(number=4, values=[0.98], datetime_start=datetime.datetime(2022, 10, 17, 12, 41, 0, 724012), datetime_complete=datetime.datetime(2022, 10, 17, 12, 41, 0, 763359), params={'classifier': 'SVC', 'svc_c': 7.37387215533868}, distributions={'classifier': CategoricalDistribution(choices=('SVC', 'RandomForest')), 'svc_c': FloatDistribution(high=10000000000.0, log=True, low=1e-10, step=None)}, user_attrs={}, system_attrs={}, intermediate_values={}, trial_id=4, state=TrialState.COMPLETE, value=None)"
            ]
          },
          "metadata": {},
          "execution_count": 6
        }
      ]
    },
    {
      "cell_type": "code",
      "source": [
        "study.best_params"
      ],
      "metadata": {
        "colab": {
          "base_uri": "https://localhost:8080/"
        },
        "id": "T4NWii-E9k4Y",
        "outputId": "911765f2-1558-4811-a038-f63f141c7191"
      },
      "execution_count": null,
      "outputs": [
        {
          "output_type": "execute_result",
          "data": {
            "text/plain": [
              "{'classifier': 'SVC', 'svc_c': 7.37387215533868}"
            ]
          },
          "metadata": {},
          "execution_count": 7
        }
      ]
    },
    {
      "cell_type": "code",
      "source": [],
      "metadata": {
        "id": "TyIZWTR59nQD"
      },
      "execution_count": null,
      "outputs": []
    }
  ]
}