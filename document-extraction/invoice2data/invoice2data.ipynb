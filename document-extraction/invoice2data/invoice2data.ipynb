{
 "cells": [
  {
   "cell_type": "markdown",
   "metadata": {},
   "source": [
    "### 1. Install pdftotext"
   ]
  },
  {
   "cell_type": "code",
   "execution_count": 1,
   "metadata": {
    "collapsed": false,
    "jupyter": {
     "outputs_hidden": false
    }
   },
   "outputs": [
    {
     "name": "stdout",
     "output_type": "stream",
     "text": [
      "Updating Homebrew...\n",
      "\u001b[34m==>\u001b[0m \u001b[1mAuto-updated Homebrew!\u001b[0m\n",
      "Updated 3 taps (homebrew/core, homebrew/cask and caskroom/cask).\n",
      "\u001b[34m==>\u001b[0m \u001b[1mNew Formulae\u001b[0m\n",
      "codespell                                libsigc++@2\n",
      "\u001b[34m==>\u001b[0m \u001b[1mUpdated Formulae\u001b[0m\n",
      "\u001b[1mnss \u001b[32m✔\u001b[0m\u001b[0m               graph-tool          hfstospell          libxml++3\n",
      "atkmm               gsmartcontrol       hledger             pangomm\n",
      "biogeme             gstreamermm         libglademm          pcb2gcode\n",
      "cairomm             gtkmm               libgnomecanvasmm    pioneer\n",
      "glib-networking     gtkmm3              libsigc++           prefixsuffix\n",
      "glibmm              gtksourceviewmm     libvoikko           synfig\n",
      "gobby               gtksourceviewmm3    libxml++            talloc\n",
      "\u001b[34m==>\u001b[0m \u001b[1mDeleted Formulae\u001b[0m\n",
      "konoha\n",
      "\n",
      "\u001b[33mWarning:\u001b[0m Cask 'pdftotext' is already installed.\n",
      "\n",
      "To re-install pdftotext, run:\n",
      "  \u001b[32mbrew cask reinstall pdftotext\u001b[39m\n"
     ]
    }
   ],
   "source": [
    "!brew cask install pdftotext"
   ]
  },
  {
   "cell_type": "markdown",
   "metadata": {},
   "source": [
    "### 2. Extract invoice from PDF"
   ]
  },
  {
   "cell_type": "code",
   "execution_count": 1,
   "metadata": {
    "collapsed": false,
    "jupyter": {
     "outputs_hidden": false
    }
   },
   "outputs": [
    {
     "name": "stdout",
     "output_type": "stream",
     "text": [
      "Invoice Number: INV-3337\n"
     ]
    }
   ],
   "source": [
    "import json, re, subprocess\n",
    "\n",
    "# Make an invoices folder, put invoice PDFs in there\n",
    "pdfname = 'invoices/invoice1.pdf'\n",
    "\n",
    "# Run pdftotext command with invoice\n",
    "output = subprocess.check_output(\n",
    "    ['pdftotext', '-layout', pdfname, '-']).decode()\n",
    "\n",
    "# Extract pages of invoice\n",
    "pages = output.strip('\\f').split('\\f')\n",
    "page  = pages[-1]\n",
    "\n",
    "# Extract invoice number from last page\n",
    "invoice_number = re.search(r'Invoice Number\\s*(\\S+)', page).group(1)\n",
    "print('Invoice Number: {}'.format(invoice_number))"
   ]
  },
  {
   "cell_type": "code",
   "execution_count": 41,
   "metadata": {},
   "outputs": [
    {
     "name": "stdout",
     "output_type": "stream",
     "text": [
      "{\n",
      "  \"Invoice Date\": \"January\",\n",
      "  \"Due Date\": \"January\",\n",
      "  \"Invoice Number\": \"INV-3337\",\n",
      "  \"Order Number\": \"12345\",\n",
      "  \"Total Due\": \"$93.50\"\n",
      "}\n"
     ]
    }
   ],
   "source": [
    "import json, re, subprocess\n",
    "\n",
    "pdfname = 'invoices/invoice1.pdf'\n",
    "\n",
    "output = subprocess.check_output(\n",
    "    ['pdftotext', '-layout', pdfname, '-']\n",
    ").decode()\n",
    "\n",
    "pages = output.strip('\\f').split('\\f')\n",
    "page  = pages[-1]\n",
    "\n",
    "headers = ['Invoice Number', 'Order Number', 'Invoice Date', 'Due Date', 'Total Due']\n",
    "\n",
    "summary = {}\n",
    "\n",
    "for header in headers:\n",
    "    summary[header] = re.search(header + '\\s*(\\S+)', page).group(1)\n",
    "\n",
    "print(json.dumps(summary, indent=2))"
   ]
  },
  {
   "cell_type": "code",
   "execution_count": 54,
   "metadata": {},
   "outputs": [
    {
     "ename": "Exception",
     "evalue": "Authentication failed: Unauthorized",
     "output_type": "error",
     "traceback": [
      "\u001b[0;31m---------------------------------------------------------------------------\u001b[0m",
      "\u001b[0;31mException\u001b[0m                                 Traceback (most recent call last)",
      "\u001b[0;32m<ipython-input-54-b43d96683d9c>\u001b[0m in \u001b[0;36m<module>\u001b[0;34m()\u001b[0m\n\u001b[1;32m      1\u001b[0m \u001b[0;32mfrom\u001b[0m \u001b[0msypht\u001b[0m\u001b[0;34m.\u001b[0m\u001b[0mclient\u001b[0m \u001b[0;32mimport\u001b[0m \u001b[0mSyphtClient\u001b[0m\u001b[0;34m,\u001b[0m \u001b[0mFieldset\u001b[0m\u001b[0;34m\u001b[0m\u001b[0m\n\u001b[1;32m      2\u001b[0m \u001b[0;34m\u001b[0m\u001b[0m\n\u001b[0;32m----> 3\u001b[0;31m \u001b[0msc\u001b[0m \u001b[0;34m=\u001b[0m \u001b[0mSyphtClient\u001b[0m\u001b[0;34m(\u001b[0m\u001b[0;34m'<client_id>'\u001b[0m\u001b[0;34m,\u001b[0m \u001b[0;34m'<client_secret>'\u001b[0m\u001b[0;34m)\u001b[0m\u001b[0;34m\u001b[0m\u001b[0m\n\u001b[0m\u001b[1;32m      4\u001b[0m \u001b[0;34m\u001b[0m\u001b[0m\n\u001b[1;32m      5\u001b[0m \u001b[0;32mwith\u001b[0m \u001b[0mopen\u001b[0m\u001b[0;34m(\u001b[0m\u001b[0;34m'invoice.png'\u001b[0m\u001b[0;34m,\u001b[0m \u001b[0;34m'rb'\u001b[0m\u001b[0;34m)\u001b[0m \u001b[0;32mas\u001b[0m \u001b[0mf\u001b[0m\u001b[0;34m:\u001b[0m\u001b[0;34m\u001b[0m\u001b[0m\n",
      "\u001b[0;32m//anaconda/lib/python3.5/site-packages/sypht/client.py\u001b[0m in \u001b[0;36m__init__\u001b[0;34m(self, client_id, client_secret, base_endpoint, auth_endpoint, session)\u001b[0m\n\u001b[1;32m     57\u001b[0m         \u001b[0mself\u001b[0m\u001b[0;34m.\u001b[0m\u001b[0m_company_id\u001b[0m \u001b[0;34m=\u001b[0m \u001b[0;32mNone\u001b[0m\u001b[0;34m\u001b[0m\u001b[0m\n\u001b[1;32m     58\u001b[0m         self._access_token = self._authenticate(client_id, client_secret, audience=self.audience,\n\u001b[0;32m---> 59\u001b[0;31m                                                 endpoint=auth_endpoint)\n\u001b[0m\u001b[1;32m     60\u001b[0m \u001b[0;34m\u001b[0m\u001b[0m\n\u001b[1;32m     61\u001b[0m     \u001b[0;34m@\u001b[0m\u001b[0mstaticmethod\u001b[0m\u001b[0;34m\u001b[0m\u001b[0m\n",
      "\u001b[0;32m//anaconda/lib/python3.5/site-packages/sypht/client.py\u001b[0m in \u001b[0;36m_authenticate\u001b[0;34m(client_id, client_secret, audience, endpoint)\u001b[0m\n\u001b[1;32m     70\u001b[0m \u001b[0;34m\u001b[0m\u001b[0m\n\u001b[1;32m     71\u001b[0m         \u001b[0;32mif\u001b[0m \u001b[0mresult\u001b[0m\u001b[0;34m.\u001b[0m\u001b[0mget\u001b[0m\u001b[0;34m(\u001b[0m\u001b[0;34m'error_description'\u001b[0m\u001b[0;34m)\u001b[0m\u001b[0;34m:\u001b[0m\u001b[0;34m\u001b[0m\u001b[0m\n\u001b[0;32m---> 72\u001b[0;31m             \u001b[0;32mraise\u001b[0m \u001b[0mException\u001b[0m\u001b[0;34m(\u001b[0m\u001b[0;34m'Authentication failed: {}'\u001b[0m\u001b[0;34m.\u001b[0m\u001b[0mformat\u001b[0m\u001b[0;34m(\u001b[0m\u001b[0mresult\u001b[0m\u001b[0;34m[\u001b[0m\u001b[0;34m'error_description'\u001b[0m\u001b[0;34m]\u001b[0m\u001b[0;34m)\u001b[0m\u001b[0;34m)\u001b[0m\u001b[0;34m\u001b[0m\u001b[0m\n\u001b[0m\u001b[1;32m     73\u001b[0m \u001b[0;34m\u001b[0m\u001b[0m\n\u001b[1;32m     74\u001b[0m         \u001b[0;32mreturn\u001b[0m \u001b[0mresult\u001b[0m\u001b[0;34m[\u001b[0m\u001b[0;34m'access_token'\u001b[0m\u001b[0;34m]\u001b[0m\u001b[0;34m\u001b[0m\u001b[0m\n",
      "\u001b[0;31mException\u001b[0m: Authentication failed: Unauthorized"
     ]
    }
   ],
   "source": [
    "from sypht.client import SyphtClient, Fieldset\n",
    "\n",
    "sc = SyphtClient('<client_id>', '<client_secret>')\n",
    "\n",
    "with open('invoice.png', 'rb') as f:\n",
    "    fid = sc.upload(f, fieldsets=[\"document\", \"invoice\"])\n",
    "\n",
    "print(sc.fetch_results(fid))"
   ]
  }
 ],
 "metadata": {
  "anaconda-cloud": {},
  "kernelspec": {
   "display_name": "Python 3",
   "language": "python",
   "name": "python3"
  },
  "language_info": {
   "codemirror_mode": {
    "name": "ipython",
    "version": 3
   },
   "file_extension": ".py",
   "mimetype": "text/x-python",
   "name": "python",
   "nbconvert_exporter": "python",
   "pygments_lexer": "ipython3",
   "version": "3.5.2"
  }
 },
 "nbformat": 4,
 "nbformat_minor": 4
}
